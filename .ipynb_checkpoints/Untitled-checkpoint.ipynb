{
 "cells": [
  {
   "cell_type": "markdown",
   "metadata": {},
   "source": [
    "# 💲 Credit Card Approval 💲\n",
    "\n",
    "<br>\n",
    "\n",
    "In this Notebook we will predict wether a person will pay or not their credit card, using that information, we will discover if a credit card should be approved to that said person.\n",
    "\n",
    "<br><br>\n",
    "\n",
    "#### This Notebook is divided into the following sections:\n",
    "\n",
    "<br>\n",
    "\n",
    "- Importing \n",
    "- Cleaning\n",
    "- Exploratory Data Visualization\n",
    "- Training\n",
    "- Hyperparameter Tuning\n",
    "- Formatting answer"
   ]
  },
  {
   "cell_type": "markdown",
   "metadata": {},
   "source": [
    "## 1. Importing\n",
    "\n",
    "<br>\n",
    "\n",
    "### 1.1 Importing Tools"
   ]
  },
  {
   "cell_type": "code",
   "execution_count": 1,
   "metadata": {},
   "outputs": [],
   "source": [
    "# Importing Basic Tools\n",
    "import pandas            as pd\n",
    "import seaborn           as sns\n",
    "import matplotlib.pyplot as plt"
   ]
  },
  {
   "cell_type": "code",
   "execution_count": 149,
   "metadata": {},
   "outputs": [],
   "source": [
    "# Importing Preprocessing Tools\n",
    "from sklearn.preprocessing import RobustScaler\n",
    "from sklearn.preprocessing import OneHotEncoder\n",
    "from sklearn.compose       import make_column_transformer"
   ]
  },
  {
   "cell_type": "markdown",
   "metadata": {},
   "source": [
    "### 1.2 Importing Data"
   ]
  },
  {
   "cell_type": "code",
   "execution_count": 228,
   "metadata": {},
   "outputs": [],
   "source": [
    "# Importing Data\n",
    "\n",
    "test = pd.read_csv('conjunto_de_teste.csv', index_col = 'id_solicitante')\n",
    "train = pd.read_csv('conjunto_de_treinamento.csv.zip', index_col = 'id_solicitante')"
   ]
  },
  {
   "cell_type": "markdown",
   "metadata": {},
   "source": [
    "# 2. Cleaning\n",
    "\n",
    "<br>\n",
    "\n",
    "## 2.1 Checking NaN"
   ]
  },
  {
   "cell_type": "code",
   "execution_count": 145,
   "metadata": {},
   "outputs": [
    {
     "data": {
      "text/plain": [
       "produto_solicitado                  0.0\n",
       "dia_vencimento                      0.0\n",
       "forma_envio_solicitacao             0.0\n",
       "tipo_endereco                       0.0\n",
       "sexo                                0.0\n",
       "idade                               0.0\n",
       "estado_civil                        0.0\n",
       "qtde_dependentes                    0.0\n",
       "nacionalidade                       0.0\n",
       "estado_onde_nasceu                  0.0\n",
       "estado_onde_reside                  0.0\n",
       "possui_telefone_residencial         0.0\n",
       "codigo_area_telefone_residencial    0.0\n",
       "tipo_residencia                     0.0\n",
       "meses_na_residencia                 0.0\n",
       "possui_email                        0.0\n",
       "renda_mensal_regular                0.0\n",
       "renda_extra                         0.0\n",
       "possui_cartao_visa                  0.0\n",
       "possui_cartao_mastercard            0.0\n",
       "possui_cartao_diners                0.0\n",
       "possui_cartao_amex                  0.0\n",
       "possui_outros_cartoes               0.0\n",
       "qtde_contas_bancarias               0.0\n",
       "valor_patrimonio_pessoal            0.0\n",
       "possui_carro                        0.0\n",
       "vinculo_formal_com_empresa          0.0\n",
       "estado_onde_trabalha                0.0\n",
       "possui_telefone_trabalho            0.0\n",
       "codigo_area_telefone_trabalho       0.0\n",
       "meses_no_trabalho                   0.0\n",
       "profissao                           0.0\n",
       "ocupacao                            0.0\n",
       "local_onde_reside                   0.0\n",
       "local_onde_trabalha                 0.0\n",
       "inadimplente                        0.0\n",
       "dtype: float64"
      ]
     },
     "execution_count": 145,
     "metadata": {},
     "output_type": "execute_result"
    }
   ],
   "source": [
    "# Checking if there is any NaN value\n",
    "\n",
    "# This shows the percentage of information that is Nan\n",
    "train.isna().sum() * 100 / len(train.index)"
   ]
  },
  {
   "cell_type": "code",
   "execution_count": 146,
   "metadata": {},
   "outputs": [
    {
     "data": {
      "text/plain": [
       "produto_solicitado                  0.0\n",
       "dia_vencimento                      0.0\n",
       "forma_envio_solicitacao             0.0\n",
       "tipo_endereco                       0.0\n",
       "sexo                                0.0\n",
       "idade                               0.0\n",
       "estado_civil                        0.0\n",
       "qtde_dependentes                    0.0\n",
       "nacionalidade                       0.0\n",
       "estado_onde_nasceu                  0.0\n",
       "estado_onde_reside                  0.0\n",
       "possui_telefone_residencial         0.0\n",
       "codigo_area_telefone_residencial    0.0\n",
       "tipo_residencia                     0.0\n",
       "meses_na_residencia                 0.0\n",
       "possui_email                        0.0\n",
       "renda_mensal_regular                0.0\n",
       "renda_extra                         0.0\n",
       "possui_cartao_visa                  0.0\n",
       "possui_cartao_mastercard            0.0\n",
       "possui_cartao_diners                0.0\n",
       "possui_cartao_amex                  0.0\n",
       "possui_outros_cartoes               0.0\n",
       "qtde_contas_bancarias               0.0\n",
       "valor_patrimonio_pessoal            0.0\n",
       "possui_carro                        0.0\n",
       "vinculo_formal_com_empresa          0.0\n",
       "estado_onde_trabalha                0.0\n",
       "possui_telefone_trabalho            0.0\n",
       "codigo_area_telefone_trabalho       0.0\n",
       "meses_no_trabalho                   0.0\n",
       "profissao                           0.0\n",
       "ocupacao                            0.0\n",
       "local_onde_reside                   0.0\n",
       "local_onde_trabalha                 0.0\n",
       "dtype: float64"
      ]
     },
     "execution_count": 146,
     "metadata": {},
     "output_type": "execute_result"
    }
   ],
   "source": [
    "test.isnull().sum() * 100 / len(test.index)"
   ]
  },
  {
   "cell_type": "markdown",
   "metadata": {},
   "source": [
    "As we can see, the colunms `profissao_companheiro` and `grau_instrucao_companheiro`, have a higher than 50% of NaN values, because of that, they'll be deleted."
   ]
  },
  {
   "cell_type": "code",
   "execution_count": 229,
   "metadata": {},
   "outputs": [],
   "source": [
    "# Creating a list of Dataframes, so all changes are done on both\n",
    "dfs = [test, train]\n",
    "\n",
    "# List o f Columns to be deleted\n",
    "deleted_columns = ['possui_telefone_celular', \n",
    "                   'grau_instrucao', \n",
    "                   'qtde_contas_bancarias_especiais',\n",
    "                   'profissao_companheiro',\n",
    "                   'grau_instrucao_companheiro']\n",
    "\n",
    "# List of the columns that are numerical\n",
    "numerical =        ['idade',  \n",
    "                    'qtde_dependentes',\n",
    "                    'meses_na_residencia', \n",
    "                    'renda_mensal_regular', \n",
    "                    'renda_extra', \n",
    "                    'qtde_contas_bancarias', \n",
    "                    'valor_patrimonio_pessoal',\n",
    "                    'meses_no_trabalho']\n",
    "\n",
    "# List of the columns that are categorical\n",
    "categorical_1  =     ['possui_email', \n",
    "                    'possui_cartao_visa', \n",
    "                    'possui_cartao_mastercard', \n",
    "                    'possui_cartao_diners', \n",
    "                    'possui_cartao_amex', \n",
    "                    'possui_outros_cartoes', \n",
    "                    'possui_carro',   \n",
    "                    'possui_telefone_trabalho']\n",
    "\n",
    "categorical_2 =   [ 'vinculo_formal_com_empresa',\n",
    "                    'profissao', \n",
    "                    'ocupacao',\n",
    "                    'possui_telefone_residencial',\n",
    "                    'produto_solicitado', \n",
    "                    'dia_vencimento', \n",
    "                    'forma_envio_solicitacao', \n",
    "                    'tipo_endereco', \n",
    "                    'sexo', \n",
    "                    'estado_civil', \n",
    "                    'nacionalidade' ] \n",
    "                    \n",
    "                    \n",
    "# Deletando por enquanto\n",
    "categories_multi = ['estado_onde_nasceu', \n",
    "                    'estado_onde_reside',\n",
    "                    'codigo_area_telefone_residencial',\n",
    "                    'estado_onde_trabalha', \n",
    "                    'codigo_area_telefone_trabalho',\n",
    "                    'local_onde_reside', \n",
    "                    'local_onde_trabalha']\n",
    "\n",
    "def Cleaning_Pipeline(dfs, deleted_columns, numerical, categorical):\n",
    "\n",
    "    for df in dfs:\n",
    "        \n",
    "        # These columns were advised to be deleted\n",
    "        df.drop(columns = list(deleted_columns + categories_multi) , inplace = True)\n",
    "        \n",
    "        df.sexo.replace(' ', 'N', inplace = True)\n",
    "        \n",
    "        for col, content in df.items():\n",
    "            \n",
    "            if col in list(numerical): \n",
    "\n",
    "                df[col].fillna(inplace = True, value = df[col].median())\n",
    "\n",
    "            elif col not in list(numerical + ['inadimplente']):\n",
    "\n",
    "                df[col].fillna(inplace = True, value = df[col].mode().iloc[0])\n",
    "                \n",
    "                \n",
    "# Testing Pipeline\n",
    "Cleaning_Pipeline(dfs,deleted_columns, numerical, categorical)"
   ]
  },
  {
   "cell_type": "code",
   "execution_count": 230,
   "metadata": {},
   "outputs": [],
   "source": [
    "# Enconding Columns\n",
    "\n",
    "train = pd.get_dummies(data = train, columns = categorical_1, drop_first = True)\n",
    "train = pd.get_dummies(data = train, columns = categorical_2)\n",
    "\n",
    "test = pd.get_dummies(data = test, columns = categorical_1, drop_first = True)\n",
    "test = pd.get_dummies(data = test, columns = categorical_2)"
   ]
  },
  {
   "cell_type": "code",
   "execution_count": null,
   "metadata": {},
   "outputs": [],
   "source": [
    "# Scaling Numerical Data"
   ]
  },
  {
   "cell_type": "code",
   "execution_count": null,
   "metadata": {},
   "outputs": [],
   "source": []
  }
 ],
 "metadata": {
  "kernelspec": {
   "display_name": "Python 3",
   "language": "python",
   "name": "python3"
  },
  "language_info": {
   "codemirror_mode": {
    "name": "ipython",
    "version": 3
   },
   "file_extension": ".py",
   "mimetype": "text/x-python",
   "name": "python",
   "nbconvert_exporter": "python",
   "pygments_lexer": "ipython3",
   "version": "3.8.5"
  }
 },
 "nbformat": 4,
 "nbformat_minor": 4
}
